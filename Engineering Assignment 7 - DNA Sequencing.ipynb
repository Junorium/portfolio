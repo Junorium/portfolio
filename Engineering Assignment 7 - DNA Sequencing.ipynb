{
 "cells": [
  {
   "cell_type": "markdown",
   "id": "9b566b9b-60bd-4d85-8db9-31f39ba71cdf",
   "metadata": {},
   "source": [
    "<h1>Engineering Assignment 7: DNA Sequencing</h1>"
   ]
  },
  {
   "cell_type": "markdown",
   "id": "a265706d-b366-4e37-95e2-3e2b9edced17",
   "metadata": {},
   "source": [
    "<h2>Section 1 (Groups 1, 2 and 3)</h2>"
   ]
  },
  {
   "cell_type": "markdown",
   "id": "ed6e4706-c449-4400-92f7-ec85d67224d6",
   "metadata": {},
   "source": [
    "#### 1. Reading in the data\n",
    "We are asked to define a function that can read a specified DNA sequence text file that takes in one parameter <i>text</i> that has the DNA sequence text file and eliminate acarriage returns, spaces, and other characters to create a list with just the sequence of characters corresponding to the DNA sequence.\n",
    "\n",
    "We can do this by defining a function <i>read_DNA</i> that takes in one parameter <i>text</i> that corresponds to a text file of the DNA sequence.  We can open the file and iterate through each line, using .strip() to remove carriage returns and spaces at the margins of each line.  We can then join each line using line comprehension."
   ]
  },
  {
   "cell_type": "code",
   "execution_count": 1,
   "id": "09c9a330-ac39-4c27-ba0a-9a7cc94d54f1",
   "metadata": {},
   "outputs": [
    {
     "name": "stdout",
     "output_type": "stream",
     "text": [
      "['ACTTCCGGAGACCTCACACAAGATGGCGGCACCCGAGGAACACGATTCTCCGACCGAAGCGTCCCAGCCGATTGTGGAAGAGGAGGAAACTAAAACATTTAAAGACCTGGGTGTGACAGATGTGTTGTGTGAAGCTTGTGACCAGTTGGGATGGACAAAACCCACCAAGATCCAGATTGAAGCTATTCCTTTGGCCTTACAAGGTCGTGATATCATTGGGCTTGCAGAAACTGGCTCTGGAAAGACAGGCGCCTTTGCTTTGCCCATTCTAAACGCACTGCTGGAGACCCCGCAGCGTTTGTTTGCCCTAGTTCTTACCCCGACTCGGGAGCTGGCCTTTCAGATCTCAGAGCAGTTTGAAGCCCTGGGGTCCTCTATTGGAGTGCAGAGTGCTGTGATTGTAGGTGGAATTGATTCAATGTCTCAATCTTTGGCCCTTGCAAAAAAACCACATATAATAATAGCAACTCCTGGTCGACTGATTGACCACTTGGAAAATACGAAAGGTTTCAACTTGAGAGCTCTCAAATACTTGGTCATGGATGAAGCCGACCGAATACTGAATATGGATTTTGAGACAGAGGTTGACAAGATCCTCAAAGTGATTCCTCGAGATCGGAAAACATTCCTCTTCTCTGCCACCATGACCAAGAAGGTTCAAAAACTTCAGCGAGCAGCTCTGAAGAATCCTGTGAAATGTGCCGTTTCCTCTAAATACCAGACAGTTGAAAAATTACAGCAATATTATATTTTTATTCCCTCTAAATTCAAGAGTAAGCGCCTAGGATCCCTTAATAAGTTTAAGGCCAAGGCCCGTTCCATTCTTCTAGCAACTGACGTTGCCAGCCGAGGTTTGGACATACCTCATGTAGATGTGGTTGTCAACTTTGACATTCCTACCCATTCCAAGGATTACATCCATCGAGTAGGTCGAACAGCTAGAGCTGGGCGCTCCGGAAAGGCTATTACTTTTGTCACACAGTATGATGTGGAACTCTTCCAGCGCATAGAACACTTAATTGGGAAGAAACTACCAGGTTTTCCAACACAGGATGATGAGGTTATGATGCTGACAGAACGCGTCGCTGAAGCCCAAAGGTTTGCCCGAATGGAGTTAAGGGAGCATGGAGAAAAGAAGAAACGCTCGCGAGAGGATGCTGGAGATAATGATGACACAGAGGGTGCTATTGGTGTCAGGAACAAGGTGGCTGGAGGAAAAATGAAGAAGCGGAAAGGCCGTTAATCACTTTTATGAAGGCTCGAGTTCTGCTGTTCTGTAAAAGAGAATTGGAGAATGAAACCTGCTCCAACAGAGATCATGAGACTGAAATTGGTCAGAATTGTGTCCAGAATGTGCTCAGCTAATTCAGTATTCTTCCCCATTCTGGGTTGGAGTTTACTGCAGAGTAATTCTTACAGTGCTGATGTCAAGACTGTTACTGTTCTTCGACTTTGATTCCTTGCTCATGACATGAGTAGGGTGTGCTCTTCTGTCACTTCACACAGACCTTTTGCCTTTTTTAGCTGCAAGTCAAGGACTAGGTTGATGATGCCCATGACCTGTAATTGTAAAGAAGCTTGGACATCTGCAAATGATATTTAAACCATCTTGGCTTGTGCTTTATTCAAACTAATGTGAAACAATAAATTTAAATATTATTTTTAAAAGA']\n"
     ]
    }
   ],
   "source": [
    "def read_DNA(text):\n",
    "    output = []\n",
    "    \n",
    "    with open(text, 'r') as file:\n",
    "        for line in file:\n",
    "            line = line.strip()\n",
    "            output.append(line)\n",
    "    return [\"\".join(output)]\n",
    "\n",
    "print(read_DNA('DNA_NM_1.txt'))"
   ]
  },
  {
   "cell_type": "markdown",
   "id": "c7bbb28f-111c-41eb-bf8e-e4715218c6e7",
   "metadata": {},
   "source": [
    "#### 2. Reading in the translation table\n",
    "We are asked to read a text file that stores all the key-value pairs to transcribe a sequence of three characters (codons) into the corresponding amino acid.\n",
    "\n",
    "We can do this by defining a function <i>translation</i> that takes in one parameter <i>text</i> which has the key-value pairs.  From here, after initializing the dictionary, we can open the file and iterate through each line.  For each line, we can strip all parts and replace unneeded characters until all we're left with is the DNA sequence, a colon, and the corresponding amino acid.  For each of these key-value pairs, we can create a small list where we can then filter into a dictionary, in which index 0 corresponds to the DNA sequence and index 1 is the amino acid."
   ]
  },
  {
   "cell_type": "code",
   "execution_count": 2,
   "id": "7ac5b0f0-65d4-4faf-b7f3-8fd5ca09d1c9",
   "metadata": {},
   "outputs": [
    {
     "name": "stdout",
     "output_type": "stream",
     "text": [
      "{'ATA': 'I', 'ATC': 'I', 'ATT': 'I', 'ATG': 'M', 'ACA': 'T', 'ACC': 'T', 'ACG': 'T', 'ACT': 'T', 'AAC': 'N', 'AAT': 'N', 'AAA': 'K', 'AAG': 'K', 'AGC': 'S', 'AGT': 'S', 'AGA': 'R', 'AGG': 'R', 'CTA': 'L', 'CTC': 'L', 'CTG': 'L', 'CTT': 'L', 'CCA': 'P', 'CCC': 'P', 'CCG': 'P', 'CCT': 'P', 'CAC': 'H', 'CAT': 'H', 'CAA': 'Q', 'CAG': 'Q', 'CGA': 'R', 'CGC': 'R', 'CGG': 'R', 'CGT': 'R', 'GTA': 'V', 'GTC': 'V', 'GTG': 'V', 'GTT': 'V', 'GCA': 'A', 'GCC': 'A', 'GCG': 'A', 'GCT': 'A', 'GAC': 'D', 'GAT': 'D', 'GAA': 'E', 'GAG': 'E', 'GGA': 'G', 'GGC': 'G', 'GGG': 'G', 'GGT': 'G', 'TCA': 'S', 'TCC': 'S', 'TCG': 'S', 'TCT': 'S', 'TTC': 'F', 'TTT': 'F', 'TTA': 'L', 'TTG': 'L', 'TAC': 'Y', 'TAT': 'Y', 'TAA': '_', 'TAG': '_', 'TGC': 'C', 'TGT': 'C', 'TGA': '_', 'TGG': 'W'}\n"
     ]
    }
   ],
   "source": [
    "def translation(text):\n",
    "    dictionary = {}\n",
    "    with open(text) as file:\n",
    "        for line in file:\n",
    "            line = line.strip().rstrip(\",\").replace(\"'\",\"\").replace(\" \",\"\").split(\",\")\n",
    "            for elem in line:\n",
    "                entry = elem.split(\":\")\n",
    "                dictionary[entry[0]] = entry[1]\n",
    "    return dictionary\n",
    "\n",
    "print(translation('DNA_Amino_Acid_Translation_Matrix.txt'))"
   ]
  },
  {
   "cell_type": "markdown",
   "id": "b7a5a743-eae1-4842-b933-62f72c71397b",
   "metadata": {},
   "source": [
    "#### 3. Create the Amino Acid Sequence from the DNA sequence"
   ]
  },
  {
   "cell_type": "markdown",
   "id": "c9f2018f-a3f9-4335-a985-ac32464fa4cd",
   "metadata": {},
   "source": [
    "We are asked to define a function that uses the DNA sequence list and the translation dictionary to create the amino acid sequence, given a start and stop base numbers.  We are then asked to do a test case 'DNA_NM_1.txt'.\n",
    "\n",
    "We can do this by first defining the codon length and translation dictionary.\n",
    "We can then define a function <i>create_sequence</i> that takes in three parameters: the sequence as a text file, the starting index, and an optional stopping index.  If no stopping index is provided, we can initialize it as the full length of the sequence.\n",
    "We can then open and read the file and splice it to the wanted length according to the indices.  From here we can generate a list of the codon sequences using list comprehension based on groups of 3.\n",
    "From here, we can search the dictionary and append the corresponding amino acid for each codon in the list, and return a string file of the protein."
   ]
  },
  {
   "cell_type": "code",
   "execution_count": 154,
   "id": "51e51916-fe33-449a-bd26-f87c9861257f",
   "metadata": {},
   "outputs": [
    {
     "name": "stdout",
     "output_type": "stream",
     "text": [
      "TSGDLTQDGGTRGTRFSDRSVPADCGRGGN_NI_RPGCDRCVV_SL_PVGMDKTHQDPD_SYSFGLTRS_YHWACRNWLWKDRRLCFAHSKRTAGDPAAFVCPSSYPDSGAGLSDLRAV_SPGVLYWSAECCDCRWN_FNVSIFGPCKKTTYNNSNSWSTD_PLGKYERFQLESSQILGHG_SRPNTEYGF_DRG_QDPQSDSSRSENIPLLCHHDQEGSKTSASSSEESCEMCRFL_IPDS_KITAILYFYSL_IQE_APRIP__V_GQGPFHSSSN_RCQPRFGHTSCRCGCQL_HSYPFQGLHPSSRSNS_SWALRKGYYFCHTV_CGTLPAHRTLNWEETTRFSNTG__GYDADRTRR_SPKVCPNGVKGAWRKEETLARGCWR___HRGCYWCQEQGGWRKNEEAERPL\n"
     ]
    }
   ],
   "source": [
    "codon_len = 3\n",
    "dictionary = translation('DNA_Amino_Acid_Translation_Matrix.txt')\n",
    "\n",
    "def create_sequence(sequence, start, stop=None):\n",
    "    result = []\n",
    "    \n",
    "    if stop == None:\n",
    "        stop = len(sequence)\n",
    "    \n",
    "    with open(sequence, 'r') as file:\n",
    "        sequence = read_DNA(sequence)[0]\n",
    "        sequence = sequence[start-1:stop]\n",
    "        codons = [sequence[i:i+codon_len] for i in range(0, len(sequence), codon_len)]\n",
    "        for codon in codons:\n",
    "            if codon in dictionary:\n",
    "                  result.append(dictionary[codon])\n",
    "            else:\n",
    "                 pass\n",
    "        return \"\".join(result)\n",
    "        \n",
    "print(create_sequence('DNA_NM_1.txt', 1, 1243))"
   ]
  },
  {
   "cell_type": "markdown",
   "id": "624db057-82ae-4144-8f90-aee7b3ac1943",
   "metadata": {},
   "source": [
    "#### 4. Create the Official Amino Acid Sequence"
   ]
  },
  {
   "cell_type": "markdown",
   "id": "9454f281-736f-4b7f-b285-30777cbc8bf9",
   "metadata": {},
   "source": [
    "We are asked to define a function that reads an amino acid sequence file and simply returns it as a list of each amino acid.  We are then asked to do a test case with 'Protein_1_23_1243.txt'.\n",
    "\n",
    "We can do this by defining a function <i>read_protein</i> that takes in a parameter, the text.  Depending on whether the input is a file or a string, we can append each character in the file or string unto the list and return it."
   ]
  },
  {
   "cell_type": "code",
   "execution_count": 37,
   "id": "0f712e4f-32ed-43aa-a58d-5bb9a7833ae6",
   "metadata": {},
   "outputs": [
    {
     "name": "stdout",
     "output_type": "stream",
     "text": [
      "['M', 'A', 'A', 'P', 'E', 'E', 'H', 'D', 'S', 'P', 'T', 'E', 'A', 'S', 'Q', 'P', 'I', 'V', 'E', 'E', 'E', 'E', 'T', 'K', 'T', 'F', 'K', 'D', 'L', 'G', 'V', 'T', 'D', 'V', 'L', 'C', 'E', 'A', 'C', 'D', 'Q', 'L', 'G', 'W', 'T', 'K', 'P', 'T', 'K', 'I', 'Q', 'I', 'E', 'A', 'I', 'P', 'L', 'A', 'L', 'Q', 'G', 'R', 'D', 'I', 'I', 'G', 'L', 'A', 'E', 'T', 'G', 'S', 'G', 'K', 'T', 'G', 'A', 'F', 'A', 'L', 'P', 'I', 'L', 'N', 'A', 'L', 'L', 'E', 'T', 'P', 'Q', 'R', 'L', 'F', 'A', 'L', 'V', 'L', 'T', 'P', 'T', 'R', 'E', 'L', 'A', 'F', 'Q', 'I', 'S', 'E', 'Q', 'F', 'E', 'A', 'L', 'G', 'S', 'S', 'I', 'G', 'V', 'Q', 'S', 'A', 'V', 'I', 'V', 'G', 'G', 'I', 'D', 'S', 'M', 'S', 'Q', 'S', 'L', 'A', 'L', 'A', 'K', 'K', 'P', 'H', 'I', 'I', 'I', 'A', 'T', 'P', 'G', 'R', 'L', 'I', 'D', 'H', 'L', 'E', 'N', 'T', 'K', 'G', 'F', 'N', 'L', 'R', 'A', 'L', 'K', 'Y', 'L', 'V', 'M', 'D', 'E', 'A', 'D', 'R', 'I', 'L', 'N', 'M', 'D', 'F', 'E', 'T', 'E', 'V', 'D', 'K', 'I', 'L', 'K', 'V', 'I', 'P', 'R', 'D', 'R', 'K', 'T', 'F', 'L', 'F', 'S', 'A', 'T', 'M', 'T', 'K', 'K', 'V', 'Q', 'K', 'L', 'Q', 'R', 'A', 'A', 'L', 'K', 'N', 'P', 'V', 'K', 'C', 'A', 'V', 'S', 'S', 'K', 'Y', 'Q', 'T', 'V', 'E', 'K', 'L', 'Q', 'Q', 'Y', 'Y', 'I', 'F', 'I', 'P', 'S', 'K', 'F', 'K', 'S', 'K', 'R', 'L', 'G', 'S', 'L', 'N', 'K', 'F', 'K', 'A', 'K', 'A', 'R', 'S', 'I', 'L', 'L', 'A', 'T', 'D', 'V', 'A', 'S', 'R', 'G', 'L', 'D', 'I', 'P', 'H', 'V', 'D', 'V', 'V', 'V', 'N', 'F', 'D', 'I', 'P', 'T', 'H', 'S', 'K', 'D', 'Y', 'I', 'H', 'R', 'V', 'G', 'R', 'T', 'A', 'R', 'A', 'G', 'R', 'S', 'G', 'K', 'A', 'I', 'T', 'F', 'V', 'T', 'Q', 'Y', 'D', 'V', 'E', 'L', 'F', 'Q', 'R', 'I', 'E', 'H', 'L', 'I', 'G', 'K', 'K', 'L', 'P', 'G', 'F', 'P', 'T', 'Q', 'D', 'D', 'E', 'V', 'M', 'M', 'L', 'T', 'E', 'R', 'V', 'A', 'E', 'A', 'Q', 'R', 'F', 'A', 'R', 'M', 'E', 'L', 'R', 'E', 'H', 'G', 'E', 'K', 'K', 'K', 'R', 'S', 'R', 'E', 'D', 'A', 'G', 'D', 'N', 'D', 'D', 'T', 'E', 'G', 'A', 'I', 'G', 'V', 'R', 'N', 'K', 'V', 'A', 'G', 'G', 'K', 'M', 'K', 'K', 'R', 'K', 'G', 'R']\n"
     ]
    }
   ],
   "source": [
    "def read_protein(text):\n",
    "    result = []\n",
    "    \n",
    "    try:\n",
    "        with open(text, 'r') as file:\n",
    "            for line in file:\n",
    "                for char in line.strip():\n",
    "                    result.append(char)\n",
    "    except:\n",
    "        for char in text:\n",
    "            result.append(char)\n",
    "\n",
    "    return result\n",
    "\n",
    "print(read_protein('Protein_1_23_1243.txt'))"
   ]
  },
  {
   "cell_type": "markdown",
   "id": "698de611-f26d-45bf-939b-3a6aff4a968f",
   "metadata": {},
   "source": [
    "#### 5. Compare two Amino Acid Sequences"
   ]
  },
  {
   "cell_type": "markdown",
   "id": "19b38331-3553-448a-8681-cb6928868aa7",
   "metadata": {},
   "source": [
    "We are asked to define a function that compares two amino acid sequences and returns a boolean value on whether the two sequences are equal or not.  We are then asked to do a test case with a DNA sequence file and its correspodning protein file.\n",
    "\n",
    "We can do this by defining a function <i>compare_sequence</i> that takes in two parameters for the two sequences.  We can then return a boolean value depending on whether these two parameters are equal.\n",
    "\n",
    "When running the test case, we must convert the DNA sequence into a protein sequence first before standardizing as a protein file."
   ]
  },
  {
   "cell_type": "code",
   "execution_count": 58,
   "id": "c67e5dd8-6be8-4953-a4ef-fd4f53daffb6",
   "metadata": {},
   "outputs": [
    {
     "name": "stdout",
     "output_type": "stream",
     "text": [
      "True\n"
     ]
    }
   ],
   "source": [
    "def compare_sequences(first_sequence, second_sequence):\n",
    "    if first_sequence == second_sequence:\n",
    "        return True\n",
    "    else:\n",
    "        return False\n",
    "\n",
    "sequence_1 = read_protein(create_sequence('DNA_NM_1.txt', 23, 1243))\n",
    "sequence_2 = read_protein('Protein_1_23_1243.txt')\n",
    "\n",
    "print(compare_sequences(sequence_1, sequence_2))"
   ]
  },
  {
   "cell_type": "markdown",
   "id": "83fdc072-4329-4fb6-88a7-ed5759af59dc",
   "metadata": {},
   "source": [
    "#### 6. Repeat for the other test DNA sequences"
   ]
  },
  {
   "cell_type": "markdown",
   "id": "449e6040-a6d7-48c5-94b0-4e18b2710e2d",
   "metadata": {},
   "source": [
    "We are asked to compare two more DNA sequences and their protein files.\n",
    "\n",
    "We can do this by performing the same last step as the previous task."
   ]
  },
  {
   "cell_type": "code",
   "execution_count": 59,
   "id": "48e5b30d-04ff-4ca5-9e2b-c568cb8252a8",
   "metadata": {},
   "outputs": [
    {
     "name": "stdout",
     "output_type": "stream",
     "text": [
      "True\n",
      "True\n"
     ]
    }
   ],
   "source": [
    "# sequence 2, protein 2\n",
    "sequence2_1 = read_protein(create_sequence('DNA_NM_2.txt', 36, 1904))\n",
    "sequence2_2 = read_protein('Protein_2_36_1904.txt')\n",
    "print(compare_sequences(sequence2_1, sequence2_2))\n",
    "\n",
    "# sequence 3, protein 3\n",
    "sequence3_1 = read_protein(create_sequence('DNA_NM_3.txt', 200, 1570))\n",
    "sequence3_2 = read_protein('Protein_3_200_1570.txt')\n",
    "print(compare_sequences(sequence3_1, sequence3_2))"
   ]
  },
  {
   "cell_type": "markdown",
   "id": "98b69c00-5eca-4b37-8609-8d4bb2e9c4ae",
   "metadata": {},
   "source": [
    "<h2>Section 2 (Groups 2 and 3)</h2>"
   ]
  },
  {
   "cell_type": "markdown",
   "id": "d42b2fae-5d75-4b3e-923b-92d925ecb119",
   "metadata": {},
   "source": [
    "#### 1. Identifying mutations\n",
    "We are asked to define a function that, given a DNA sequence and its mutated counterpart, returns a dictionary with the indices of where mutations occured as keys and descriptions of the mutations as the values.  We are asked to do test cases.\n",
    "\n",
    "We can do this by defining a function <i>identify_mutation</i> that takes in two parameters: one for the original DNA sequence and one for its mutated counterpart.  After initializing the dictionary, we can open and clean the files.  From here we can iterate through an enumerated tuple of each line for both the original and mutated, and iterate again for each character and compare whether or not they are equal.  If these characters are not equal, we can store the description based on these mismatched characters and then store it based on the index stored from the enumerate() function."
   ]
  },
  {
   "cell_type": "code",
   "execution_count": 155,
   "id": "38c081b4-0942-4d0c-9213-42cda6fd47f4",
   "metadata": {},
   "outputs": [
    {
     "name": "stdout",
     "output_type": "stream",
     "text": [
      "{2: 'G instead of A', 7: 'T instead of C', 13: 'A instead of C'}\n",
      "{6: 'T instead of A', 10: 'T instead of A', 14: 'T instead of A'}\n",
      "{7: 'G instead of A', 9: 'C instead of T', 21: 'C instead of A', 22: 'T instead of C', 28: 'C instead of T'}\n"
     ]
    }
   ],
   "source": [
    "def identify_mutation(original, mutated):\n",
    "    mutations = {}\n",
    "    with open(original, 'r') as original, open(mutated, 'r') as mutated:\n",
    "        original = [line.strip() for line in original]\n",
    "        mutated = [line.strip() for line in mutated]\n",
    "        \n",
    "        for index, (original_sequence, mutated_sequence) in enumerate(zip(original, mutated)):\n",
    "            for original, mutated in zip(original_sequence, mutated_sequence):\n",
    "                if original != mutated:\n",
    "                    mutation_description = f\"{mutated} instead of {original}\"\n",
    "                    mutations[index + 1] = mutation_description\n",
    "    print(mutations)\n",
    "                \n",
    "\n",
    "identify_mutation('DNA_NM_1.txt', 'DNA_NM_1_mutated.txt')\n",
    "identify_mutation('DNA_NM_2.txt', 'DNA_NM_2_mutated.txt')\n",
    "identify_mutation('DNA_NM_3.txt', 'DNA_NM_3_mutated.txt')\n",
    "\n",
    "mutated_1 = create_sequence('DNA_NM_1_mutated.txt', 1)\n",
    "mutated_2 = create_sequence('DNA_NM_2_mutated.txt', 1)\n",
    "mutated_3 = create_sequence('DNA_NM_3_mutated.txt', 1)"
   ]
  },
  {
   "cell_type": "markdown",
   "id": "091af804-a40b-449a-9a06-e63214f07484",
   "metadata": {},
   "source": [
    "<h2>Section 3 (Group 3)</h2>"
   ]
  },
  {
   "cell_type": "markdown",
   "id": "35096b33-2d51-466f-b7c8-a4450a7cd06f",
   "metadata": {},
   "source": [
    "### Pandas analysis\n",
    "We are given a csv file that contains fractions of each of the 64 codons for over 13,000 species, obtained from Kaggle.com.  We are asked to use Pandas to complete the following tasks:\n",
    "\n",
    "1\\) Describe the overall dimensions of the dataset.  How many rows and columns are there?<p>\n",
    "2\\) Display the weights for the codons CUU, CUC, CUA and CUG for the first five species<p>\n",
    "3\\) Filter the dataset to include just those species containing \"Tomato\"<p>\n",
    "4\\) Find the species that has the largest weight of AUA.<p>\n",
    "5\\) Filter the dataset to include only those species with a GUC weight larger than .06<p>\n",
    "6\\) For the species with GUC larger than .06, plot the UUU weight as the y-axis and the UUC weight as the x-axis.<p>\n",
    "7\\) On the same plot, plot the UUU and UUC weights for the species with no GUC<p>\n",
    "    \n",
    "After importing pandas, we can do the following:\n",
    "1\\) We can read the csv file with pandas to turn it into a DataFrame.  We can then use .shape to describe the dimensions.\n",
    "2\\) We can list out the first five elements of each codon by iterating through each codon and simple indexing.\n",
    "3\\) We can index according to \"SpeciesName\" and whether or not the string contains \"Tomato.\"\n",
    "4\\) We can index the species according to its name and the column index that has the max value for \"AUA\" using .apply() to apply a short lambda function (max function).\n",
    "5\\) We can index values that have a \"GUC\" greater than 0.06.\n",
    "6\\) We can plot according to the previous index using .plot() assuming that scatter is the best option, and initializing the x and y axes.\n",
    "7\\) We can plot according to the previous guidelines but instead index based on whether \"GUC\" is equal to 0 (none)."
   ]
  },
  {
   "cell_type": "code",
   "execution_count": 104,
   "id": "2013ba62-206f-4f8d-af04-75ed44337646",
   "metadata": {},
   "outputs": [
    {
     "name": "stdout",
     "output_type": "stream",
     "text": [
      "Dimensions:(13026, 69)\n",
      "0    0.01203\n",
      "1    0.00407\n",
      "2    0.00782\n",
      "3    0.01567\n",
      "4    0.01380\n",
      "Name: CUU, dtype: float64\n",
      "0    0.03208\n",
      "1    0.02849\n",
      "2    0.01111\n",
      "3    0.01358\n",
      "4    0.00548\n",
      "Name: CUC, dtype: float64\n",
      "0    0.00100\n",
      "1    0.00204\n",
      "2    0.01028\n",
      "3    0.00940\n",
      "4    0.00473\n",
      "Name: CUA, dtype: float64\n",
      "0    0.04010\n",
      "1    0.04410\n",
      "2    0.01193\n",
      "3    0.01723\n",
      "4    0.02076\n",
      "Name: CUG, dtype: float64\n",
      "     Kingdom  DNAtype  SpeciesID  Ncodons  \\\n",
      "456      vrl        0      12281     4478   \n",
      "470      vrl        0      12315    12338   \n",
      "480      vrl        0     123735     3424   \n",
      "522      vrl        0      12851     2261   \n",
      "565      vrl        0     138314    17982   \n",
      "...      ...      ...        ...      ...   \n",
      "2695     vrl        0      71186     2817   \n",
      "2791     vrl        0      85752    11883   \n",
      "2811     vrl        0      92963     3923   \n",
      "2826     vrl        0      96054     1104   \n",
      "5420     bct        0     434404     1737   \n",
      "\n",
      "                                 SpeciesName      UUU      UUC      UUA  \\\n",
      "456                    Tomato ringspot virus  0.03283  0.01362  0.01742   \n",
      "470                     Tomato aspermy virus  0.01759  0.01597  0.01662   \n",
      "480   Tomato yellow leaf curl Sardinia virus  0.02541  0.02132  0.02044   \n",
      "522              Tomato chlorotic spot virus  0.02521  0.01725  0.01504   \n",
      "565                      Tomato mosaic virus  0.02452  0.02085  0.02135   \n",
      "...                                      ...      ...      ...      ...   \n",
      "2695          Tomato leaf curl Sinaloa virus  0.02201  0.02130  0.00852   \n",
      "2791  Tomato yellow leaf curl Thailand virus  0.02264  0.02104  0.01464   \n",
      "2811           Tomato severe leaf curl virus  0.01886  0.02422  0.01912   \n",
      "2826      Tomato leaf curl Philippines virus  0.02355  0.01721  0.01630   \n",
      "5420              Tomato big bud phytoplasma  0.06793  0.00979  0.07254   \n",
      "\n",
      "          UUG      CUU  ...      CGG      AGA      AGG      GAU      GAC  \\\n",
      "456   0.03059  0.02144  ...  0.00491  0.00759  0.01675  0.03171  0.01117   \n",
      "470   0.01289  0.02237  ...  0.00251  0.01086  0.00681  0.03599  0.01986   \n",
      "480   0.01110  0.01373  ...  0.00467  0.01373  0.02015  0.03183  0.02132   \n",
      "522   0.01681  0.01725  ...  0.00177  0.01636  0.00708  0.04113  0.01106   \n",
      "565   0.02358  0.01741  ...  0.00384  0.02197  0.01468  0.03787  0.02035   \n",
      "...       ...      ...  ...      ...      ...      ...      ...      ...   \n",
      "2695  0.01029  0.00958  ...  0.01065  0.01917  0.01704  0.03266  0.02272   \n",
      "2791  0.01044  0.01203  ...  0.00572  0.01708  0.01683  0.02651  0.01515   \n",
      "2811  0.00663  0.00612  ...  0.00892  0.01300  0.02218  0.03059  0.01759   \n",
      "2826  0.01178  0.01449  ...  0.00453  0.01993  0.01902  0.03714  0.01540   \n",
      "5420  0.01094  0.01324  ...  0.00288  0.00633  0.00000  0.03627  0.00345   \n",
      "\n",
      "          GAA      GAG      UAA      UAG      UGA  \n",
      "456   0.02479  0.02858  0.00067  0.00022  0.00000  \n",
      "470   0.02658  0.01824  0.00008  0.00000  0.00332  \n",
      "480   0.02891  0.01431  0.00292  0.00146  0.00117  \n",
      "522   0.04556  0.01681  0.00088  0.00000  0.00133  \n",
      "565   0.03537  0.02653  0.00156  0.00056  0.00000  \n",
      "...       ...      ...      ...      ...      ...  \n",
      "2695  0.02130  0.02094  0.00248  0.00071  0.00106  \n",
      "2791  0.02777  0.01843  0.00269  0.00118  0.00151  \n",
      "2811  0.01886  0.02447  0.00408  0.00102  0.00000  \n",
      "2826  0.01902  0.02264  0.00362  0.00091  0.00091  \n",
      "5420  0.04491  0.00518  0.00230  0.00115  0.00058  \n",
      "\n",
      "[156 rows x 69 columns]\n",
      "8699    mitochondrion Maoricicada campbelli\n",
      "Name: SpeciesName, dtype: object\n",
      "     Kingdom  DNAtype  SpeciesID  Ncodons                         SpeciesName  \\\n",
      "3826     bct        0     159599     2038          Streptomyces sp. NRRL 5331   \n",
      "3901     bct        0       1708     3386                   Cellulomonas fimi   \n",
      "4249     bct        0     219305     2380       Micromonospora sp. ATCC 39149   \n",
      "4280     arc        0       2246    21750                  Haloferax volcanii   \n",
      "4371     arc        0     242927     1207                   Haloarcula sp. D1   \n",
      "4489     bct        0     266940  1494419  Kineococcus radiotolerans SRS30216   \n",
      "5912     arc        0      79680     1329               Thermococcus sp. KS-8   \n",
      "7832     pln        0       4580     2209                        Zea perennis   \n",
      "9200     inv        0      38949     2182                   Perna canaliculus   \n",
      "9206     inv        0      39564     1772            Pseudomicrothorax dubius   \n",
      "9423     inv        0       5872     7829                        Babesia equi   \n",
      "\n",
      "          UUU      UUC      UUA      UUG      CUU  ...      CGG      AGA  \\\n",
      "3826  0.00000  0.02012  0.00049  0.00196  0.00196  ...  0.02110  0.00098   \n",
      "3901  0.00059  0.03160  0.00000  0.00059  0.00089  ...  0.02126  0.00000   \n",
      "4249  0.00042  0.02311  0.00000  0.00252  0.00210  ...  0.02395  0.00000   \n",
      "4280  0.00202  0.03333  0.00018  0.00262  0.00345  ...  0.01526  0.00120   \n",
      "4371  0.00166  0.03728  0.00083  0.00663  0.00166  ...  0.01574  0.00083   \n",
      "4489  0.00020  0.02516  0.00005  0.00282  0.00067  ...  0.02801  0.00032   \n",
      "5912  0.00150  0.01279  0.00150  0.00150  0.01354  ...  0.00226  0.00602   \n",
      "7832  0.00000  0.02988  0.00000  0.00453  0.00362  ...  0.00000  0.00000   \n",
      "9200  0.00367  0.00367  0.00367  0.00550  0.00779  ...  0.00046  0.00458   \n",
      "9206  0.00226  0.02709  0.00056  0.00734  0.00451  ...  0.00113  0.01749   \n",
      "9423  0.02133  0.03934  0.00077  0.02631  0.00971  ...  0.00000  0.01341   \n",
      "\n",
      "          AGG      GAU      GAC      GAA      GAG      UAA      UAG      UGA  \n",
      "3826  0.00147  0.00294  0.05839  0.00687  0.05250  0.00098  0.00000  0.00196  \n",
      "3901  0.00118  0.00030  0.07649  0.00059  0.04578  0.00000  0.00000  0.00148  \n",
      "4249  0.00126  0.00126  0.05420  0.00210  0.06429  0.00042  0.00042  0.00378  \n",
      "4280  0.00069  0.00262  0.08671  0.02446  0.06184  0.00069  0.00041  0.00129  \n",
      "4371  0.00083  0.00829  0.08451  0.02486  0.07291  0.00083  0.00000  0.00249  \n",
      "4489  0.00171  0.00195  0.05818  0.00527  0.04831  0.00004  0.00025  0.00284  \n",
      "5912  0.03160  0.01129  0.05643  0.00978  0.08804  0.00075  0.00000  0.00150  \n",
      "7832  0.00045  0.00724  0.05613  0.00770  0.02626  0.00000  0.00453  0.00724  \n",
      "9200  0.00092  0.01650  0.01421  0.00917  0.00458  0.00000  0.00183  0.00046  \n",
      "9206  0.00000  0.00959  0.02144  0.00395  0.04628  0.00056  0.00113  0.00000  \n",
      "9423  0.00575  0.02682  0.04458  0.03308  0.06361  0.00332  0.00000  0.00000  \n",
      "\n",
      "[11 rows x 69 columns]\n"
     ]
    },
    {
     "data": {
      "text/plain": [
       "<AxesSubplot:xlabel='UUC', ylabel='UUU'>"
      ]
     },
     "execution_count": 104,
     "metadata": {},
     "output_type": "execute_result"
    },
    {
     "data": {
      "image/png": "[encoded data removed]",
      "text/plain": [
       "<Figure size 432x288 with 1 Axes>"
      ]
     },
     "metadata": {
      "needs_background": "light"
     },
     "output_type": "display_data"
    },
    {
     "data": {
      "image/png": "[encoded data removed]",
      "text/plain": [
       "<Figure size 432x288 with 1 Axes>"
      ]
     },
     "metadata": {
      "needs_background": "light"
     },
     "output_type": "display_data"
    }
   ],
   "source": [
    "import pandas as pd\n",
    "\n",
    "# Task 1\n",
    "df = pd.read_csv('codon_usage.csv')\n",
    "print(f\"Dimensions:{df.shape}\")\n",
    "\n",
    "# Task 2\n",
    "specific_codons = ['CUU', 'CUC', 'CUA', 'CUG']\n",
    "for codon in specific_codons:\n",
    "    print(df[codon][0:5])\n",
    "\n",
    "# Task 3\n",
    "filtered_df_tomato = df[df['SpeciesName'].str.contains('Tomato')]\n",
    "print(filtered_df_tomato)\n",
    "\n",
    "# Task 4\n",
    "max_aua = df[\"SpeciesName\"][df.index[df.apply(lambda row: df[\"AUA\"].max() in row.values, axis=1)].tolist()]\n",
    "print(max_aua)\n",
    "\n",
    "# Task 5\n",
    "filtered_df = df[df['GUC'] > 0.06]\n",
    "print(filtered_df)\n",
    "\n",
    "# Task 6\n",
    "df[df['GUC'] > 0.06].plot(x='UUC', y='UUU', kind='scatter')\n",
    "\n",
    "# Task 7\n",
    "df[df['GUC'] == 0].plot(x='UUC', y='UUU', kind='scatter')\n",
    "\n"
   ]
  }
 ],
 "metadata": {
  "kernelspec": {
   "display_name": "Python 3 (ipykernel)",
   "language": "python",
   "name": "python3"
  },
  "language_info": {
   "codemirror_mode": {
    "name": "ipython",
    "version": 3
   },
   "file_extension": ".py",
   "mimetype": "text/x-python",
   "name": "python",
   "nbconvert_exporter": "python",
   "pygments_lexer": "ipython3",
   "version": "3.9.12"
  }
 },
 "nbformat": 4,
 "nbformat_minor": 5
}
